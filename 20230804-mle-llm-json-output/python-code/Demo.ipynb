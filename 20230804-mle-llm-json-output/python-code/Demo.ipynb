{
 "cells": [
  {
   "cell_type": "markdown",
   "id": "3faab145-d927-4ecf-9199-3a03d6c1337a",
   "metadata": {},
   "source": [
    "# Python Code for Blog Post 04/Aug/2023\n",
    "\n",
    "The present notebook contains the python code used for the Blog Post written on 04/Aug/2023\n",
    "about LLMs producing JSON to interface with applications."
   ]
  },
  {
   "cell_type": "markdown",
   "id": "100b026d-32a4-4e37-988d-50e1d8171842",
   "metadata": {},
   "source": [
    "# Environment Setup"
   ]
  },
  {
   "cell_type": "code",
   "execution_count": 1,
   "id": "6c987b65-e43d-4c13-8235-00dd080f24c3",
   "metadata": {},
   "outputs": [],
   "source": [
    "%%capture\n",
    "%pip install openai\n",
    "%pip install requests\n",
    "%pip install beautifulsoup4"
   ]
  },
  {
   "cell_type": "code",
   "execution_count": 2,
   "id": "796d082b-00cf-4d88-8b92-dbf8d5dd7a88",
   "metadata": {},
   "outputs": [],
   "source": [
    "import os\n",
    "import openai\n",
    "with open(\"/Users/hudsonmendes/.openai/key\", \"r\", encoding=\"utf-8\") as fh:\n",
    "    openai.api_key = fh.read().strip()"
   ]
  },
  {
   "cell_type": "code",
   "execution_count": 3,
   "id": "38482afe-3f9c-49c5-b8d4-66771b211e66",
   "metadata": {},
   "outputs": [],
   "source": [
    "from string import Template\n",
    "prompt_template = Template(\"\"\"\n",
    "Extract the following attributes from the blog post: \n",
    "- Main Topic of the Post\n",
    "- Overall, does the post express a positive or negative view?\n",
    "- If available, what is the call to action?\n",
    "\n",
    "The blog post is delimited with triple hashes. \\\n",
    "Format your response as a JSON object with \\\n",
    "\"main_topic\", \"sentiment_polarity\" and \"call_to_action\"as the keys.\n",
    "If the information isn't present, use `null` \\\n",
    "as the value.\n",
    "Make your response as short as possible.\n",
    "Format the \"sentiment_polarity\" value as a range between -1 for negative and 1 for positive.\n",
    "\n",
    "Blog Post: ###${text}###\n",
    "\"\"\")"
   ]
  },
  {
   "cell_type": "code",
   "execution_count": 4,
   "id": "aded91c8-1909-403e-8757-543dbd633c48",
   "metadata": {},
   "outputs": [
    {
     "data": {
      "text/plain": [
       "'Robo 3T, Dangerous default value for \"Create Index in Background\" | by ⚡️Hudson Ⓜ️endes | Medium\\nRobo 3T, Dangerous default value for \"Create Index in Background\"\\n⚡️Hudson Ⓜ️endes\\n·\\nFollow\\n3 min read\\n·\\nApr 16, 2020\\n--\\nListen\\nShare\\nIndexes in mongo must be created in Background. Not doing it is dangerous enough to bring your entire MongoDB cluster down, and beyond repair.\\nProblem\\nCreate and index, followed by any modification to the index in a large collection with the \\nAdvanced > Create Index in Background\\n option set to \\nfalse\\n.\\nThe Cluster propagates those actions and becomes unresponsive!\\nGithub Issue\\n\"Create index in background\" checked by default · Issue #1656 · Studio3T/robomongo\\nDismiss GitHub is home to over 40 million developers working together to host and review code, manage projects, and…\\ngithub.com\\nHistory\\nNot once, but twice, I have created and shortly after modified an index in different collections that were both large.\\nIn the first occurrence, the server has become lar (...)'"
      ]
     },
     "execution_count": 4,
     "metadata": {},
     "output_type": "execute_result"
    }
   ],
   "source": [
    "import requests\n",
    "from bs4 import BeautifulSoup\n",
    "\n",
    "blog_url = \"https://medium.com/@hudsonmendes/robo-3t-dangerous-default-value-for-create-index-in-background-7cb2f6bc9a78\"\n",
    "blog_page = requests.get(blog_url)\n",
    "blog_soup = BeautifulSoup(blog_page.content, \"html.parser\")\n",
    "blog_text = blog_soup.get_text(\"\\n\").strip()\n",
    "blog_text[0:1000] + \" (...)\""
   ]
  },
  {
   "cell_type": "code",
   "execution_count": 5,
   "id": "1898cd2d-bf95-4e7a-a435-7e5999476209",
   "metadata": {},
   "outputs": [
    {
     "data": {
      "application/json": {
       "call_to_action": "Consider creating indexes in background unless you explicitly need to do otherwise and follow the author on Twitter for more updates on his work",
       "main_topic": "The dangers of not creating indexes in the background in MongoDB using Robo 3T",
       "sentiment_polarity": -0.5
      },
      "text/plain": [
       "<IPython.core.display.JSON object>"
      ]
     },
     "metadata": {
      "application/json": {
       "expanded": false,
       "root": "root"
      }
     },
     "output_type": "display_data"
    }
   ],
   "source": [
    "import json\n",
    "from IPython.display import display, JSON\n",
    "\n",
    "completion = openai.ChatCompletion.create(\n",
    "    model=\"gpt-4-0613\",\n",
    "    temperature=0,\n",
    "    messages=[\n",
    "        {\"role\": \"system\", \"content\": \"You are an information extraction system.\"},\n",
    "        {\"role\": \"user\", \"content\": prompt_template.substitute(text=blog_text)}\n",
    "    ]\n",
    ")\n",
    "\n",
    "display(JSON(json.loads(completion.choices[0].message.content)))"
   ]
  }
 ],
 "metadata": {
  "kernelspec": {
   "display_name": "Python 3 (ipykernel)",
   "language": "python",
   "name": "python3"
  },
  "language_info": {
   "codemirror_mode": {
    "name": "ipython",
    "version": 3
   },
   "file_extension": ".py",
   "mimetype": "text/x-python",
   "name": "python",
   "nbconvert_exporter": "python",
   "pygments_lexer": "ipython3",
   "version": "3.10.11"
  }
 },
 "nbformat": 4,
 "nbformat_minor": 5
}
